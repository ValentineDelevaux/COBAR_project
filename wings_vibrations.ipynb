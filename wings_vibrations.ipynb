{
 "cells": [
  {
   "cell_type": "markdown",
   "metadata": {},
   "source": [
    "# Notebook to study wings vibrations"
   ]
  },
  {
   "cell_type": "code",
   "execution_count": 1,
   "metadata": {},
   "outputs": [],
   "source": [
    "from flygym import Camera, Simulation, NeuroMechFly, Parameters\n",
    "import cv2\n",
    "import numpy as np\n",
    "from tqdm import trange\n",
    "import flygym as flygym\n",
    "from flygym.arena import FlatTerrain\n",
    "from flygym.preprogrammed import all_leg_dofs\n",
    "from flygym.vision import save_video_with_vision_insets"
   ]
  },
  {
   "cell_type": "code",
   "execution_count": 2,
   "metadata": {},
   "outputs": [],
   "source": [
    "from scripts.utils import plot_chasing\n",
    "from scripts.hybrid_turning_fly import HybridTurningFly\n",
    "from scripts.chasing_fly import ChasingFly\n",
    "from scripts.colored_terrain import FlatTerrainColored\n",
    "from scripts.changing_state_fly import ChangingStateFly"
   ]
  },
  {
   "cell_type": "code",
   "execution_count": 8,
   "metadata": {},
   "outputs": [],
   "source": [
    "wings_dofs = [\"joint_LWing_roll\", \"joint_RWing_roll\", \"joint_LWing_yaw\", \"joint_RWing_yaw\"]\n",
    "all_dofs = all_leg_dofs + wings_dofs"
   ]
  },
  {
   "cell_type": "code",
   "execution_count": 9,
   "metadata": {},
   "outputs": [
    {
     "name": "stdout",
     "output_type": "stream",
     "text": [
      "['joint_LFCoxa', 'joint_LFCoxa_roll', 'joint_LFCoxa_yaw', 'joint_LFFemur', 'joint_LFFemur_roll', 'joint_LFTibia', 'joint_LFTarsus1', 'joint_LMCoxa', 'joint_LMCoxa_roll', 'joint_LMCoxa_yaw', 'joint_LMFemur', 'joint_LMFemur_roll', 'joint_LMTibia', 'joint_LMTarsus1', 'joint_LHCoxa', 'joint_LHCoxa_roll', 'joint_LHCoxa_yaw', 'joint_LHFemur', 'joint_LHFemur_roll', 'joint_LHTibia', 'joint_LHTarsus1', 'joint_RFCoxa', 'joint_RFCoxa_roll', 'joint_RFCoxa_yaw', 'joint_RFFemur', 'joint_RFFemur_roll', 'joint_RFTibia', 'joint_RFTarsus1', 'joint_RMCoxa', 'joint_RMCoxa_roll', 'joint_RMCoxa_yaw', 'joint_RMFemur', 'joint_RMFemur_roll', 'joint_RMTibia', 'joint_RMTarsus1', 'joint_RHCoxa', 'joint_RHCoxa_roll', 'joint_RHCoxa_yaw', 'joint_RHFemur', 'joint_RHFemur_roll', 'joint_RHTibia', 'joint_RHTarsus1', 'joint_LWing_roll', 'joint_RWing_roll', 'joint_LWing_yaw', 'joint_RWing_yaw']\n"
     ]
    }
   ],
   "source": [
    "print(list(all_dofs))"
   ]
  },
  {
   "cell_type": "code",
   "execution_count": 10,
   "metadata": {},
   "outputs": [],
   "source": [
    "timestep = 1e-4"
   ]
  },
  {
   "cell_type": "code",
   "execution_count": 11,
   "metadata": {},
   "outputs": [],
   "source": [
    "fly0 = ChangingStateFly(\n",
    "    name=\"0\",\n",
    "    xml_variant=\"courtship\",\n",
    "    actuated_joints=all_dofs,\n",
    "    desired_distance=0.02,\n",
    "    timestep=timestep,\n",
    "    enable_adhesion=True,\n",
    "    head_stabilization_model=\"thorax\",\n",
    "    neck_kp=1000,\n",
    ")"
   ]
  },
  {
   "cell_type": "code",
   "execution_count": 12,
   "metadata": {},
   "outputs": [
    {
     "name": "stdout",
     "output_type": "stream",
     "text": [
      "joint_LWing_roll\n",
      "joint_LWing_yaw\n",
      "joint_RWing_roll\n",
      "joint_RWing_yaw\n",
      "joint_LFCoxa_yaw\n",
      "joint_LFCoxa\n",
      "joint_LFCoxa_roll\n",
      "joint_LFFemur\n",
      "joint_LFFemur_roll\n",
      "joint_LFTibia\n",
      "joint_LFTarsus1\n",
      "joint_LFTarsus2\n",
      "joint_LFTarsus3\n",
      "joint_LFTarsus4\n",
      "joint_LFTarsus5\n",
      "joint_LHCoxa_yaw\n",
      "joint_LHCoxa\n",
      "joint_LHCoxa_roll\n",
      "joint_LHFemur\n",
      "joint_LHFemur_roll\n",
      "joint_LHTibia\n",
      "joint_LHTarsus1\n",
      "joint_LHTarsus2\n",
      "joint_LHTarsus3\n",
      "joint_LHTarsus4\n",
      "joint_LHTarsus5\n",
      "joint_LMCoxa_yaw\n",
      "joint_LMCoxa\n",
      "joint_LMCoxa_roll\n",
      "joint_LMFemur\n",
      "joint_LMFemur_roll\n",
      "joint_LMTibia\n",
      "joint_LMTarsus1\n",
      "joint_LMTarsus2\n",
      "joint_LMTarsus3\n",
      "joint_LMTarsus4\n",
      "joint_LMTarsus5\n",
      "joint_RHCoxa_yaw\n",
      "joint_RHCoxa\n",
      "joint_RHCoxa_roll\n",
      "joint_RHFemur\n",
      "joint_RHFemur_roll\n",
      "joint_RHTibia\n",
      "joint_RHTarsus1\n",
      "joint_RHTarsus2\n",
      "joint_RHTarsus3\n",
      "joint_RHTarsus4\n",
      "joint_RHTarsus5\n",
      "joint_RMCoxa_yaw\n",
      "joint_RMCoxa\n",
      "joint_RMCoxa_roll\n",
      "joint_RMFemur\n",
      "joint_RMFemur_roll\n",
      "joint_RMTibia\n",
      "joint_RMTarsus1\n",
      "joint_RMTarsus2\n",
      "joint_RMTarsus3\n",
      "joint_RMTarsus4\n",
      "joint_RMTarsus5\n",
      "joint_RFCoxa_yaw\n",
      "joint_RFCoxa\n",
      "joint_RFCoxa_roll\n",
      "joint_RFFemur\n",
      "joint_RFFemur_roll\n",
      "joint_RFTibia\n",
      "joint_RFTarsus1\n",
      "joint_RFTarsus2\n",
      "joint_RFTarsus3\n",
      "joint_RFTarsus4\n",
      "joint_RFTarsus5\n",
      "joint_Head_yaw\n",
      "joint_Head\n",
      "joint_Head_roll\n",
      "joint_LPedicel_yaw\n",
      "joint_LPedicel\n",
      "joint_LPedicel_roll\n",
      "joint_LFuniculus_yaw\n",
      "joint_LFuniculus\n",
      "joint_LFuniculus_roll\n",
      "joint_LArista_yaw\n",
      "joint_LArista\n",
      "joint_LArista_roll\n",
      "joint_RPedicel_yaw\n",
      "joint_RPedicel\n",
      "joint_RPedicel_roll\n",
      "joint_RFuniculus_yaw\n",
      "joint_RFuniculus\n",
      "joint_RFuniculus_roll\n",
      "joint_RArista_yaw\n",
      "joint_RArista\n",
      "joint_RArista_roll\n"
     ]
    }
   ],
   "source": [
    "for joint in fly0.model.find_all(\"joint\"):\n",
    "    print(joint.name)"
   ]
  },
  {
   "cell_type": "code",
   "execution_count": 13,
   "metadata": {},
   "outputs": [],
   "source": [
    "# TODO \n",
    "# Define simulation etc \n",
    "# Define the wings vibrations in ChangingStateFly\n",
    "# Define the state transitions in ChangingStateFly"
   ]
  },
  {
   "cell_type": "code",
   "execution_count": null,
   "metadata": {},
   "outputs": [],
   "source": []
  }
 ],
 "metadata": {
  "kernelspec": {
   "display_name": "flygym-v1",
   "language": "python",
   "name": "python3"
  },
  "language_info": {
   "codemirror_mode": {
    "name": "ipython",
    "version": 3
   },
   "file_extension": ".py",
   "mimetype": "text/x-python",
   "name": "python",
   "nbconvert_exporter": "python",
   "pygments_lexer": "ipython3",
   "version": "3.11.9"
  }
 },
 "nbformat": 4,
 "nbformat_minor": 2
}
