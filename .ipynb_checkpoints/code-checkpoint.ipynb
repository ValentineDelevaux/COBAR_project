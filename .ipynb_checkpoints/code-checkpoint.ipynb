{
 "cells": [
  {
   "cell_type": "markdown",
   "id": "02453d1d-6639-4800-8a9c-cb5146ccabbe",
   "metadata": {},
   "source": [
    "Implement courtship chasing while keeping a specific distance to the other fly using\n",
    "visual detection of the distance to the other fly\n",
    "\n",
    "(1) Person establishes two-fly chase environment / scenario\n",
    "\n",
    "(2) Person implements visual processing of target fly being chased\n",
    "\n",
    "(3) Person implements motor control of chasing and velocity control with processed visual input"
   ]
  },
  {
   "cell_type": "markdown",
   "id": "7823e2a0-a8f6-4f18-9149-3587d4ff42d8",
   "metadata": {},
   "source": [
    "### From exo week 4: Vision (the fly follows a sphere)"
   ]
  },
  {
   "cell_type": "code",
   "execution_count": 1,
   "id": "a0d565ae-d2b8-40ac-924c-5fdebee3297d",
   "metadata": {
    "tags": []
   },
   "outputs": [
    {
     "ename": "ModuleNotFoundError",
     "evalue": "No module named 'neuromechfly'",
     "output_type": "error",
     "traceback": [
      "\u001b[0;31m---------------------------------------------------------------------------\u001b[0m",
      "\u001b[0;31mModuleNotFoundError\u001b[0m                       Traceback (most recent call last)",
      "Cell \u001b[0;32mIn[1], line 1\u001b[0m\n\u001b[0;32m----> 1\u001b[0m \u001b[38;5;28;01mfrom\u001b[39;00m \u001b[38;5;21;01mneuromechfly\u001b[39;00m\u001b[38;5;21;01m.\u001b[39;00m\u001b[38;5;21;01menvironment\u001b[39;00m \u001b[38;5;28;01mimport\u001b[39;00m NeuroMechFlyEnvironment\n\u001b[1;32m      2\u001b[0m \u001b[38;5;28;01mfrom\u001b[39;00m \u001b[38;5;21;01mneuromechfly\u001b[39;00m\u001b[38;5;21;01m.\u001b[39;00m\u001b[38;5;21;01magent\u001b[39;00m \u001b[38;5;28;01mimport\u001b[39;00m NeuroMechFlyAgent\n\u001b[1;32m      3\u001b[0m \u001b[38;5;28;01mfrom\u001b[39;00m \u001b[38;5;21;01mneuromechfly\u001b[39;00m\u001b[38;5;21;01m.\u001b[39;00m\u001b[38;5;21;01msensors\u001b[39;00m \u001b[38;5;28;01mimport\u001b[39;00m VisualSensor\n",
      "\u001b[0;31mModuleNotFoundError\u001b[0m: No module named 'neuromechfly'"
     ]
    }
   ],
   "source": [
    "import neuromechfly\n",
    "\n",
    "from neuromechfly.environment import NeuroMechFlyEnvironment\n",
    "from neuromechfly.agent import NeuroMechFlyAgent\n",
    "from neuromechfly.sensors import VisualSensor\n",
    "\n",
    "# Créer l'environnement de simulation\n",
    "env = NeuroMechFlyEnvironment()\n",
    "\n",
    "# Créer un agent (mouche) dans l'environnement\n",
    "fly = NeuroMechFlyAgent(env)\n",
    "\n",
    "# Ajouter un capteur visuel à la mouche\n",
    "visual_sensor = VisualSensor()\n",
    "fly.add_sensor(visual_sensor)\n",
    "\n",
    "# Définir les paramètres de vision de la mouche\n",
    "visual_sensor.set_resolution(64)  # Définir la résolution du capteur\n",
    "visual_sensor.set_field_of_view(180)  # Définir le champ de vision en degrés\n",
    "\n",
    "# Lancer la simulation\n",
    "env.run_simulation()\n"
   ]
  },
  {
   "cell_type": "code",
   "execution_count": null,
   "id": "39edf0b5-e621-4109-ac1a-3bc81dba1549",
   "metadata": {},
   "outputs": [],
   "source": []
  }
 ],
 "metadata": {
  "kernelspec": {
   "display_name": "Python 3 (ipykernel)",
   "language": "python",
   "name": "python3"
  },
  "language_info": {
   "codemirror_mode": {
    "name": "ipython",
    "version": 3
   },
   "file_extension": ".py",
   "mimetype": "text/x-python",
   "name": "python",
   "nbconvert_exporter": "python",
   "pygments_lexer": "ipython3",
   "version": "3.11.5"
  }
 },
 "nbformat": 4,
 "nbformat_minor": 5
}
