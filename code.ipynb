{
 "cells": [
  {
   "cell_type": "markdown",
   "id": "02453d1d-6639-4800-8a9c-cb5146ccabbe",
   "metadata": {},
   "source": [
    "Implement courtship chasing while keeping a specific distance to the other fly using\n",
    "visual detection of the distance to the other fly\n",
    "\n",
    "(1) Person establishes two-fly chase environment / scenario\n",
    "\n",
    "(2) Person implements visual processing of target fly being chased\n",
    "\n",
    "(3) Person implements motor control of chasing and velocity control with processed visual input"
   ]
  },
  {
   "cell_type": "code",
   "execution_count": 1,
   "id": "a0d565ae-d2b8-40ac-924c-5fdebee3297d",
   "metadata": {
    "tags": []
   },
   "outputs": [],
   "source": [
    "from flygym import Fly, Camera, SingleFlySimulation, Simulation \n",
    "import cv2\n",
    "import numpy as np\n",
    "import pickle\n",
    "from tqdm import trange\n",
    "import flygym as flygym\n",
    "from flygym.arena import FlatTerrain\n",
    "\n",
    "from flygym.preprogrammed import all_leg_dofs\n"
   ]
  },
  {
   "cell_type": "code",
   "execution_count": 2,
   "id": "e89b3e04",
   "metadata": {},
   "outputs": [],
   "source": [
    "fly1 = Fly(name=\"1\", spawn_pos=(0, 0, 0.5))\n",
    "fly2 = Fly(name=\"2\", spawn_pos=(3, 0, 0.5))\n",
    "\n",
    "cam = Camera(fly=fly1, camera_id=\"Animat/camera_left\")\n",
    "\n",
    "arena = FlatTerrain()\n",
    "\n",
    "run_time = 0.5 #temps de la simulation\n",
    "timestep = 1e-4 #Temps de chaque etape\n",
    "actuated_joints = all_leg_dofs\n",
    "\n",
    "target_num_steps = int(run_time / timestep) #Nombre de pas pendant la simulation\n",
    "\n",
    "#RANDOM PATH\n",
    "data_block_2 = np.zeros((len(actuated_joints), target_num_steps)) #joints a chaque etape (ici 0 encore)\n",
    "output_t_2 = np.arange(target_num_steps) * timestep #timecode de chaque step\n",
    "\n",
    "# Generate random data for interpolation\n",
    "np.random.seed(0)  # for reproducibility\n",
    "input_t_2 = np.linspace(0, run_time, num=10)  # 100 input time points\n",
    "data_2 = {joint: np.random.rand(10) for joint in actuated_joints}  # On prend 100 points random\n",
    "\n",
    "for i, joint in enumerate(actuated_joints):\n",
    "    data_block_2[i, :] = np.interp(output_t_2, input_t_2, data_2[joint]) #On comble les points entre les 100 de base par interpolation\n",
    "\n",
    "#DATA PATH\n",
    "\n",
    "\n",
    "sim_params = flygym.Parameters(\n",
    "    timestep=1e-4, render_mode=\"saved\", render_playspeed=0.2, draw_contacts=True\n",
    ")\n",
    "actuated_joints = flygym.preprogrammed.all_leg_dofs\n",
    "\n",
    "data_path = flygym.get_data_path(\"flygym\", \"data\")\n",
    "with open(data_path / \"behavior\" / \"210902_pr_fly1.pkl\", \"rb\") as f:\n",
    "    data = pickle.load(f)\n",
    "\n",
    "target_num_steps = int(run_time / sim_params.timestep)\n",
    "data_block = np.zeros((len(actuated_joints), target_num_steps))\n",
    "input_t = np.arange(len(data[\"joint_LFCoxa\"])) * data[\"meta\"][\"timestep\"]\n",
    "output_t = np.arange(target_num_steps) * sim_params.timestep\n",
    "for i, dof in enumerate(actuated_joints):\n",
    "    data_block[i, :] = np.interp(output_t, input_t, data[dof])\n",
    "\n",
    "\n"
   ]
  },
  {
   "cell_type": "code",
   "execution_count": 3,
   "id": "d1732eef",
   "metadata": {},
   "outputs": [
    {
     "name": "stderr",
     "output_type": "stream",
     "text": [
      "  6%|▌         | 289/5000 [00:20<05:31, 14.22it/s]\n"
     ]
    },
    {
     "ename": "KeyboardInterrupt",
     "evalue": "",
     "output_type": "error",
     "traceback": [
      "\u001b[0;31m---------------------------------------------------------------------------\u001b[0m",
      "\u001b[0;31mKeyboardInterrupt\u001b[0m                         Traceback (most recent call last)",
      "Cell \u001b[0;32mIn[3], line 18\u001b[0m\n\u001b[1;32m     16\u001b[0m obs, reward, terminated, truncated, info \u001b[38;5;241m=\u001b[39m sim\u001b[38;5;241m.\u001b[39mstep(action)\n\u001b[1;32m     17\u001b[0m sim\u001b[38;5;241m.\u001b[39mrender()\n\u001b[0;32m---> 18\u001b[0m \u001b[43mcam\u001b[49m\u001b[38;5;241;43m.\u001b[39;49m\u001b[43msave_video\u001b[49m\u001b[43m(\u001b[49m\u001b[38;5;124;43m\"\u001b[39;49m\u001b[38;5;124;43m./test.mp4\u001b[39;49m\u001b[38;5;124;43m\"\u001b[39;49m\u001b[43m)\u001b[49m\n",
      "File \u001b[0;32m~/Desktop/EPFL/GitHub/flygym-v1/flygym/camera.py:646\u001b[0m, in \u001b[0;36mCamera.save_video\u001b[0;34m(self, path, stabilization_time)\u001b[0m\n\u001b[1;32m    644\u001b[0m Path(path)\u001b[38;5;241m.\u001b[39mparent\u001b[38;5;241m.\u001b[39mmkdir(parents\u001b[38;5;241m=\u001b[39m\u001b[38;5;28;01mTrue\u001b[39;00m, exist_ok\u001b[38;5;241m=\u001b[39m\u001b[38;5;28;01mTrue\u001b[39;00m)\n\u001b[1;32m    645\u001b[0m logging\u001b[38;5;241m.\u001b[39minfo(\u001b[38;5;124mf\u001b[39m\u001b[38;5;124m\"\u001b[39m\u001b[38;5;124mSaving video to \u001b[39m\u001b[38;5;132;01m{\u001b[39;00mpath\u001b[38;5;132;01m}\u001b[39;00m\u001b[38;5;124m\"\u001b[39m)\n\u001b[0;32m--> 646\u001b[0m \u001b[43m\u001b[49m\u001b[38;5;28;43;01mwith\u001b[39;49;00m\u001b[43m \u001b[49m\u001b[43mimageio\u001b[49m\u001b[38;5;241;43m.\u001b[39;49m\u001b[43mget_writer\u001b[49m\u001b[43m(\u001b[49m\u001b[43mpath\u001b[49m\u001b[43m,\u001b[49m\u001b[43m \u001b[49m\u001b[43mfps\u001b[49m\u001b[38;5;241;43m=\u001b[39;49m\u001b[38;5;28;43mself\u001b[39;49m\u001b[38;5;241;43m.\u001b[39;49m\u001b[43mfps\u001b[49m\u001b[43m)\u001b[49m\u001b[43m \u001b[49m\u001b[38;5;28;43;01mas\u001b[39;49;00m\u001b[43m \u001b[49m\u001b[43mwriter\u001b[49m\u001b[43m:\u001b[49m\n\u001b[1;32m    647\u001b[0m \u001b[43m    \u001b[49m\u001b[38;5;28;43;01mfor\u001b[39;49;00m\u001b[43m \u001b[49m\u001b[43mframe\u001b[49m\u001b[43m \u001b[49m\u001b[38;5;129;43;01min\u001b[39;49;00m\u001b[43m \u001b[49m\u001b[38;5;28;43mself\u001b[39;49m\u001b[38;5;241;43m.\u001b[39;49m\u001b[43m_frames\u001b[49m\u001b[43m[\u001b[49m\u001b[43mnum_stab_frames\u001b[49m\u001b[43m:\u001b[49m\u001b[43m]\u001b[49m\u001b[43m:\u001b[49m\n\u001b[1;32m    648\u001b[0m \u001b[43m        \u001b[49m\u001b[43mwriter\u001b[49m\u001b[38;5;241;43m.\u001b[39;49m\u001b[43mappend_data\u001b[49m\u001b[43m(\u001b[49m\u001b[43mframe\u001b[49m\u001b[43m)\u001b[49m\n",
      "File \u001b[0;32m~/anaconda3/envs/flygym-v1/lib/python3.11/site-packages/imageio/core/format.py:335\u001b[0m, in \u001b[0;36mFormat._BaseReaderWriter.__exit__\u001b[0;34m(self, type, value, traceback)\u001b[0m\n\u001b[1;32m    332\u001b[0m \u001b[38;5;28;01mdef\u001b[39;00m \u001b[38;5;21m__exit__\u001b[39m(\u001b[38;5;28mself\u001b[39m, \u001b[38;5;28mtype\u001b[39m, value, traceback):\n\u001b[1;32m    333\u001b[0m     \u001b[38;5;28;01mif\u001b[39;00m value \u001b[38;5;129;01mis\u001b[39;00m \u001b[38;5;28;01mNone\u001b[39;00m:\n\u001b[1;32m    334\u001b[0m         \u001b[38;5;66;03m# Otherwise error in close hide the real error.\u001b[39;00m\n\u001b[0;32m--> 335\u001b[0m         \u001b[38;5;28;43mself\u001b[39;49m\u001b[38;5;241;43m.\u001b[39;49m\u001b[43mclose\u001b[49m\u001b[43m(\u001b[49m\u001b[43m)\u001b[49m\n",
      "File \u001b[0;32m~/anaconda3/envs/flygym-v1/lib/python3.11/site-packages/imageio/core/format.py:350\u001b[0m, in \u001b[0;36mFormat._BaseReaderWriter.close\u001b[0;34m(self)\u001b[0m\n\u001b[1;32m    348\u001b[0m     \u001b[38;5;28;01mreturn\u001b[39;00m\n\u001b[1;32m    349\u001b[0m \u001b[38;5;28mself\u001b[39m\u001b[38;5;241m.\u001b[39m__closed \u001b[38;5;241m=\u001b[39m \u001b[38;5;28;01mTrue\u001b[39;00m\n\u001b[0;32m--> 350\u001b[0m \u001b[38;5;28;43mself\u001b[39;49m\u001b[38;5;241;43m.\u001b[39;49m\u001b[43m_close\u001b[49m\u001b[43m(\u001b[49m\u001b[43m)\u001b[49m\n\u001b[1;32m    351\u001b[0m \u001b[38;5;66;03m# Process results and clean request object\u001b[39;00m\n\u001b[1;32m    352\u001b[0m \u001b[38;5;28mself\u001b[39m\u001b[38;5;241m.\u001b[39mrequest\u001b[38;5;241m.\u001b[39mfinish()\n",
      "File \u001b[0;32m~/anaconda3/envs/flygym-v1/lib/python3.11/site-packages/imageio/plugins/ffmpeg.py:560\u001b[0m, in \u001b[0;36mFfmpegFormat.Writer._close\u001b[0;34m(self)\u001b[0m\n\u001b[1;32m    558\u001b[0m \u001b[38;5;28;01mdef\u001b[39;00m \u001b[38;5;21m_close\u001b[39m(\u001b[38;5;28mself\u001b[39m):\n\u001b[1;32m    559\u001b[0m     \u001b[38;5;28;01mif\u001b[39;00m \u001b[38;5;28mself\u001b[39m\u001b[38;5;241m.\u001b[39m_write_gen \u001b[38;5;129;01mis\u001b[39;00m \u001b[38;5;129;01mnot\u001b[39;00m \u001b[38;5;28;01mNone\u001b[39;00m:\n\u001b[0;32m--> 560\u001b[0m         \u001b[38;5;28mself\u001b[39m\u001b[38;5;241m.\u001b[39m_write_gen\u001b[38;5;241m.\u001b[39mclose()\n\u001b[1;32m    561\u001b[0m         \u001b[38;5;28mself\u001b[39m\u001b[38;5;241m.\u001b[39m_write_gen \u001b[38;5;241m=\u001b[39m \u001b[38;5;28;01mNone\u001b[39;00m\n",
      "File \u001b[0;32m~/anaconda3/envs/flygym-v1/lib/python3.11/site-packages/imageio_ffmpeg/_io.py:681\u001b[0m, in \u001b[0;36mwrite_frames\u001b[0;34m(path, size, pix_fmt_in, pix_fmt_out, fps, quality, bitrate, codec, macro_block_size, ffmpeg_log_level, ffmpeg_timeout, input_params, output_params, audio_path, audio_codec)\u001b[0m\n\u001b[1;32m    679\u001b[0m \u001b[38;5;28;01mtry\u001b[39;00m:\n\u001b[1;32m    680\u001b[0m     \u001b[38;5;28;01mwhile\u001b[39;00m p\u001b[38;5;241m.\u001b[39mpoll() \u001b[38;5;129;01mis\u001b[39;00m \u001b[38;5;28;01mNone\u001b[39;00m:\n\u001b[0;32m--> 681\u001b[0m         time\u001b[38;5;241m.\u001b[39msleep(\u001b[38;5;241m0.01\u001b[39m)\n\u001b[1;32m    682\u001b[0m \u001b[38;5;28;01mfinally\u001b[39;00m:  \u001b[38;5;66;03m# the above can raise e.g. by ctrl-c or systemexit\u001b[39;00m\n\u001b[1;32m    683\u001b[0m     \u001b[38;5;28;01mif\u001b[39;00m p\u001b[38;5;241m.\u001b[39mpoll() \u001b[38;5;129;01mis\u001b[39;00m \u001b[38;5;28;01mNone\u001b[39;00m:  \u001b[38;5;66;03m# pragma: no cover\u001b[39;00m\n",
      "\u001b[0;31mKeyboardInterrupt\u001b[0m: "
     ]
    }
   ],
   "source": [
    "sim = Simulation(\n",
    "    flies=[fly1, fly2],\n",
    "    cameras=[cam],\n",
    "    arena=arena\n",
    ")\n",
    "\n",
    "obs, info = sim.reset()\n",
    "\n",
    "for i in trange(target_num_steps):\n",
    "    joint_pos_2 = data_block_2[:, i]\n",
    "    joint_pos = data_block[:, i]\n",
    "    action = {\n",
    "        \"1\": {\"joints\": joint_pos},\n",
    "        \"2\": {\"joints\": joint_pos_2},\n",
    "    }\n",
    "    obs, reward, terminated, truncated, info = sim.step(action)\n",
    "    sim.render()\n",
    "    cam.save_video(\"./test.mp4\")"
   ]
  },
  {
   "cell_type": "code",
   "execution_count": null,
   "id": "5a2785b6",
   "metadata": {},
   "outputs": [],
   "source": []
  }
 ],
 "metadata": {
  "kernelspec": {
   "display_name": "Python 3 (ipykernel)",
   "language": "python",
   "name": "python3"
  },
  "language_info": {
   "codemirror_mode": {
    "name": "ipython",
    "version": 3
   },
   "file_extension": ".py",
   "mimetype": "text/x-python",
   "name": "python",
   "nbconvert_exporter": "python",
   "pygments_lexer": "ipython3",
   "version": "3.11.9"
  }
 },
 "nbformat": 4,
 "nbformat_minor": 5
}
