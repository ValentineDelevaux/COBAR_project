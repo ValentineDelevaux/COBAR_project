{
 "cells": [
  {
   "cell_type": "markdown",
   "id": "02453d1d-6639-4800-8a9c-cb5146ccabbe",
   "metadata": {},
   "source": [
    "Implement courtship chasing while keeping a specific distance to the other fly using\n",
    "visual detection of the distance to the other fly\n",
    "\n",
    "(1) Person establishes two-fly chase environment / scenario\n",
    "\n",
    "(2) Person implements visual processing of target fly being chased\n",
    "\n",
    "(3) Person implements motor control of chasing and velocity control with processed visual input"
   ]
  },
  {
   "cell_type": "code",
   "execution_count": null,
   "id": "a0d565ae-d2b8-40ac-924c-5fdebee3297d",
   "metadata": {},
   "outputs": [],
   "source": []
  }
 ],
 "metadata": {
  "kernelspec": {
   "display_name": "Python 3 (ipykernel)",
   "language": "python",
   "name": "python3"
  },
  "language_info": {
   "codemirror_mode": {
    "name": "ipython",
    "version": 3
   },
   "file_extension": ".py",
   "mimetype": "text/x-python",
   "name": "python",
   "nbconvert_exporter": "python",
   "pygments_lexer": "ipython3",
   "version": "3.11.5"
  }
 },
 "nbformat": 4,
 "nbformat_minor": 5
}
