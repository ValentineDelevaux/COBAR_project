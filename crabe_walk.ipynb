{
 "cells": [
  {
   "cell_type": "code",
   "execution_count": 2,
   "metadata": {},
   "outputs": [],
   "source": [
    "from flygym import Camera, Simulation\n",
    "import cv2\n",
    "import numpy as np\n",
    "from tqdm import trange\n",
    "import flygym as flygym\n",
    "from flygym.arena import FlatTerrain\n",
    "from flygym.preprogrammed import all_leg_dofs\n",
    "from flygym.vision import save_video_with_vision_insets\n",
    "from scripts.utils import plot_chasing"
   ]
  },
  {
   "cell_type": "code",
   "execution_count": 3,
   "metadata": {},
   "outputs": [],
   "source": [
    "from scripts.chasing_fly import ChasingFly\n",
    "from scripts.hybrid_turning_fly import HybridTurningFly\n",
    "from scripts.colored_terrain import FlatTerrainColored"
   ]
  },
  {
   "cell_type": "code",
   "execution_count": 17,
   "metadata": {},
   "outputs": [
    {
     "ename": "NameError",
     "evalue": "name 'fly0' is not defined",
     "output_type": "error",
     "traceback": [
      "\u001b[0;31m---------------------------------------------------------------------------\u001b[0m",
      "\u001b[0;31mNameError\u001b[0m                                 Traceback (most recent call last)",
      "Cell \u001b[0;32mIn[17], line 22\u001b[0m\n\u001b[1;32m      3\u001b[0m birdeye_cam_zoom \u001b[38;5;241m=\u001b[39m arena\u001b[38;5;241m.\u001b[39mroot_element\u001b[38;5;241m.\u001b[39mworldbody\u001b[38;5;241m.\u001b[39madd(\n\u001b[1;32m      4\u001b[0m     \u001b[38;5;124m\"\u001b[39m\u001b[38;5;124mcamera\u001b[39m\u001b[38;5;124m\"\u001b[39m,\n\u001b[1;32m      5\u001b[0m     name\u001b[38;5;241m=\u001b[39m\u001b[38;5;124m\"\u001b[39m\u001b[38;5;124mbirdeye_cam_zoom\u001b[39m\u001b[38;5;124m\"\u001b[39m,\n\u001b[0;32m   (...)\u001b[0m\n\u001b[1;32m      9\u001b[0m     fovy\u001b[38;5;241m=\u001b[39m\u001b[38;5;241m45\u001b[39m,\n\u001b[1;32m     10\u001b[0m )\n\u001b[1;32m     12\u001b[0m birdeye_cam \u001b[38;5;241m=\u001b[39m arena\u001b[38;5;241m.\u001b[39mroot_element\u001b[38;5;241m.\u001b[39mworldbody\u001b[38;5;241m.\u001b[39madd(\n\u001b[1;32m     13\u001b[0m     \u001b[38;5;124m\"\u001b[39m\u001b[38;5;124mcamera\u001b[39m\u001b[38;5;124m\"\u001b[39m,\n\u001b[1;32m     14\u001b[0m     name\u001b[38;5;241m=\u001b[39m\u001b[38;5;124m\"\u001b[39m\u001b[38;5;124mbirdeye_cam\u001b[39m\u001b[38;5;124m\"\u001b[39m,\n\u001b[0;32m   (...)\u001b[0m\n\u001b[1;32m     18\u001b[0m     fovy\u001b[38;5;241m=\u001b[39m\u001b[38;5;241m45\u001b[39m,\n\u001b[1;32m     19\u001b[0m )\n\u001b[1;32m     21\u001b[0m cam \u001b[38;5;241m=\u001b[39m Camera(\n\u001b[0;32m---> 22\u001b[0m     fly\u001b[38;5;241m=\u001b[39m\u001b[43mfly0\u001b[49m,\n\u001b[1;32m     23\u001b[0m     camera_id\u001b[38;5;241m=\u001b[39m\u001b[38;5;124m\"\u001b[39m\u001b[38;5;124mbirdeye_cam\u001b[39m\u001b[38;5;124m\"\u001b[39m,\n\u001b[1;32m     24\u001b[0m     play_speed\u001b[38;5;241m=\u001b[39m\u001b[38;5;241m0.5\u001b[39m,\n\u001b[1;32m     25\u001b[0m     window_size\u001b[38;5;241m=\u001b[39m(\u001b[38;5;241m800\u001b[39m, \u001b[38;5;241m608\u001b[39m),\n\u001b[1;32m     26\u001b[0m )\n",
      "\u001b[0;31mNameError\u001b[0m: name 'fly0' is not defined"
     ]
    }
   ],
   "source": [
    "arena = FlatTerrain()\n",
    "\n",
    "birdeye_cam_zoom = arena.root_element.worldbody.add(\n",
    "    \"camera\",\n",
    "    name=\"birdeye_cam_zoom\",\n",
    "    mode=\"fixed\",\n",
    "    pos=(15, 0, 20),\n",
    "    euler=(0, 0, 0),\n",
    "    fovy=45,\n",
    ")\n",
    "\n",
    "birdeye_cam = arena.root_element.worldbody.add(\n",
    "    \"camera\",\n",
    "    name=\"birdeye_cam\",\n",
    "    mode=\"fixed\",\n",
    "    pos=(15, 0, 35),\n",
    "    euler=(0, 0, 0),\n",
    "    fovy=45,\n",
    ")\n",
    "\n",
    "cam = Camera(\n",
    "    fly=fly0,\n",
    "    camera_id=\"birdeye_cam\",\n",
    "    play_speed=0.5,\n",
    "    window_size=(800, 608),\n",
    ")"
   ]
  },
  {
   "cell_type": "code",
   "execution_count": 4,
   "metadata": {},
   "outputs": [],
   "source": [
    "import numpy as np\n",
    "\n",
    "\n",
    "def calculate_ddt(theta, r, w, phi, nu, R, alpha):\n",
    "    \"\"\"Given the current state variables theta, r and network parameters\n",
    "    w, phi, nu, R, alpha, calculate the time derivatives of theta and r.\"\"\"\n",
    "    intrinsic_term = 2 * np.pi * nu\n",
    "    phase_diff = theta[np.newaxis, :] - theta[:, np.newaxis]\n",
    "    coupling_term = (r * w * np.sin(phase_diff - phi)).sum(axis=1)\n",
    "    dtheta_dt = intrinsic_term + coupling_term\n",
    "    dr_dt = alpha * (R - r)\n",
    "    return dtheta_dt, dr_dt\n",
    "\n",
    "class CPGNetwork:\n",
    "    def __init__(\n",
    "        self,\n",
    "        timestep,\n",
    "        intrinsic_freqs,\n",
    "        intrinsic_amps,\n",
    "        coupling_weights,\n",
    "        phase_biases,\n",
    "        convergence_coefs,\n",
    "        init_phases=None,\n",
    "        init_magnitudes=None,\n",
    "        seed=0,\n",
    "    ) -> None:\n",
    "        \"\"\"Initialize a CPG network consisting of N oscillators.\n",
    "\n",
    "        Parameters\n",
    "        ----------\n",
    "        timestep : float\n",
    "            The timestep of the simulation.\n",
    "        intrinsic_frequencies : np.ndarray\n",
    "            The intrinsic frequencies of the oscillators, shape (N,).\n",
    "        intrinsic_amplitudes : np.ndarray\n",
    "            The intrinsic amplitude of the oscillators, shape (N,).\n",
    "        coupling_weights : np.ndarray\n",
    "            The coupling weights between the oscillators, shape (N, N).\n",
    "        phase_biases : np.ndarray\n",
    "            The phase biases between the oscillators, shape (N, N).\n",
    "        convergence_coefs : np.ndarray\n",
    "            Coefficients describing the rate of convergence to oscillator\n",
    "            intrinsic amplitudes, shape (N,).\n",
    "        init_phases : np.ndarray, optional\n",
    "            Initial phases of the oscillators, shape (N,). The phases are\n",
    "            randomly initialized if not provided.\n",
    "        init_magnitudes : np.ndarray, optional\n",
    "            Initial magnitudes of the oscillators, shape (N,). The\n",
    "            magnitudes are randomly initialized if not provided.\n",
    "        seed : int, optional\n",
    "            The random seed to use for initializing the phases and\n",
    "            magnitudes.\n",
    "        \"\"\"\n",
    "        self.timestep = timestep\n",
    "        self.num_cpgs = intrinsic_freqs.size\n",
    "        self.intrinsic_freqs = intrinsic_freqs\n",
    "        self.intrinsic_amps = intrinsic_amps\n",
    "        self.coupling_weights = coupling_weights\n",
    "        self.phase_biases = phase_biases\n",
    "        self.convergence_coefs = convergence_coefs\n",
    "        self.random_state = np.random.RandomState(seed)\n",
    "\n",
    "        self.reset(init_phases, init_magnitudes)\n",
    "\n",
    "        # Check if the parameters have the right shape\n",
    "        assert intrinsic_freqs.shape == (self.num_cpgs,)\n",
    "        assert coupling_weights.shape == (self.num_cpgs, self.num_cpgs)\n",
    "        assert phase_biases.shape == (self.num_cpgs, self.num_cpgs)\n",
    "        assert convergence_coefs.shape == (self.num_cpgs,)\n",
    "        assert self.curr_phases.shape == (self.num_cpgs,)\n",
    "        assert self.curr_magnitudes.shape == (self.num_cpgs,)\n",
    "\n",
    "    def step(self):\n",
    "        \"\"\"Integrate the ODEs using Euler's method.\"\"\"\n",
    "        dtheta_dt, dr_dt = calculate_ddt(\n",
    "            theta=self.curr_phases,\n",
    "            r=self.curr_magnitudes,\n",
    "            w=self.coupling_weights,\n",
    "            phi=self.phase_biases,\n",
    "            nu=self.intrinsic_freqs,\n",
    "            R=self.intrinsic_amps,\n",
    "            alpha=self.convergence_coefs,\n",
    "        )\n",
    "        self.curr_phases += dtheta_dt * self.timestep\n",
    "        self.curr_magnitudes += dr_dt * self.timestep\n",
    "\n",
    "    def reset(self, init_phases=None, init_magnitudes=None):\n",
    "        \"\"\"Reset the phases and magnitudes of the oscillators.\"\"\"\n",
    "        if init_phases is None:\n",
    "            self.curr_phases = self.random_state.random(self.num_cpgs) * 2 * np.pi\n",
    "        else:\n",
    "            self.curr_phases = init_phases\n",
    "\n",
    "        if init_magnitudes is None:\n",
    "            self.curr_magnitudes = (\n",
    "                self.random_state.random(self.num_cpgs) * self.intrinsic_amps\n",
    "            )\n",
    "        else:\n",
    "            self.curr_magnitudes = init_magnitudes"
   ]
  },
  {
   "cell_type": "code",
   "execution_count": 9,
   "metadata": {},
   "outputs": [
    {
     "name": "stderr",
     "output_type": "stream",
     "text": [
      "/Users/valentinedelevaux/Desktop/EPFL/GitHub/flygym-v1/flygym/core.py:331: UserWarning: Deprecation warning: The `NeuroMechFly` class has been restructured into `Simulation`, `Fly`, and `Camera`.`NeuroMechFly` will be removed in future versions.\n",
      "  warnings.warn(\n"
     ]
    }
   ],
   "source": [
    "import flygym\n",
    "import flygym.preprogrammed\n",
    "\n",
    "run_time = 1\n",
    "sim_params = flygym.Parameters(\n",
    "    timestep=1e-4, render_mode=\"saved\", render_playspeed=0.1, draw_contacts=True\n",
    ")\n",
    "nmf = flygym.NeuroMechFly(\n",
    "    sim_params=sim_params,\n",
    "    init_pose=\"stretch\",\n",
    "    actuated_joints=flygym.preprogrammed.all_leg_dofs,\n",
    "    control=\"position\",\n",
    ")"
   ]
  },
  {
   "cell_type": "code",
   "execution_count": 10,
   "metadata": {},
   "outputs": [],
   "source": [
    "intrinsic_freqs = np.ones(6) * 12\n",
    "intrinsic_amps = np.ones(6) * 1\n",
    "phase_biases = np.pi * np.array(\n",
    "    [\n",
    "        [0, 1, 0, 1, 0, 1],\n",
    "        [1, 0, 1, 0, 1, 0],\n",
    "        [0, 1, 0, 1, 0, 1],\n",
    "        [1, 0, 1, 0, 1, 0],\n",
    "        [0, 1, 0, 1, 0, 1],\n",
    "        [1, 0, 1, 0, 1, 0],\n",
    "    ]\n",
    ")\n",
    "coupling_weights = (phase_biases > 0) * 10\n",
    "convergence_coefs = np.ones(6) * 20\n",
    "\n",
    "cpg_network = CPGNetwork(\n",
    "    timestep=1e-4,\n",
    "    intrinsic_freqs=intrinsic_freqs,\n",
    "    intrinsic_amps=intrinsic_amps,\n",
    "    coupling_weights=coupling_weights,\n",
    "    phase_biases=phase_biases,\n",
    "    convergence_coefs=convergence_coefs,\n",
    ")"
   ]
  },
  {
   "cell_type": "code",
   "execution_count": 14,
   "metadata": {},
   "outputs": [
    {
     "name": "stdout",
     "output_type": "stream",
     "text": [
      "Preprogrammed steps have a length of 45 steps at dt=0.003s.\n"
     ]
    }
   ],
   "source": [
    "import pickle\n",
    "from flygym import get_data_path\n",
    "\n",
    "single_steps_path = \"./data/single_steps_untethered.pkl\"\n",
    "single_steps_path = get_data_path(\"flygym\", \"data\") / \"behavior/single_steps_untethered.pkl\"\n",
    "with open(single_steps_path, \"rb\") as f:\n",
    "    single_steps_data = pickle.load(f)\n",
    "\n",
    "\n",
    "preprogrammed_steps_length = len(single_steps_data[\"joint_LFCoxa\"])\n",
    "preprogrammed_steps_timestep = single_steps_data[\"meta\"][\"timestep\"]\n",
    "print(\n",
    "    f\"Preprogrammed steps have a length of {preprogrammed_steps_length} steps \"\n",
    "    f\"at dt={preprogrammed_steps_timestep}s.\"\n",
    ")\n",
    "for k, v in single_steps_data.items():\n",
    "    if k.startswith(\"joint_\"):\n",
    "        assert len(v) == preprogrammed_steps_length\n",
    "        assert v[0] == v[-1]\n",
    "\n",
    "\n",
    "from scipy.interpolate import CubicSpline\n",
    "\n",
    "legs = [f\"{side}{pos}\" for side in \"LR\" for pos in \"FMH\"]\n",
    "dofs_per_leg = [\n",
    "    \"Coxa\",\n",
    "    \"Coxa_roll\",\n",
    "    \"Coxa_yaw\",\n",
    "    \"Femur\",\n",
    "    \"Femur_roll\",\n",
    "    \"Tibia\",\n",
    "    \"Tarsus1\",\n",
    "]\n",
    "phase_grid = np.linspace(0, 2 * np.pi, preprogrammed_steps_length)\n",
    "psi_funcs = {}\n",
    "for leg in legs:\n",
    "    joint_angles = np.array(\n",
    "        [single_steps_data[f\"joint_{leg}{dof}\"] for dof in dofs_per_leg]\n",
    "    )\n",
    "    psi_funcs[leg] = CubicSpline(phase_grid, joint_angles, axis=1, bc_type=\"periodic\")"
   ]
  },
  {
   "cell_type": "code",
   "execution_count": 15,
   "metadata": {},
   "outputs": [
    {
     "name": "stderr",
     "output_type": "stream",
     "text": [
      "100%|██████████| 10000/10000 [00:23<00:00, 428.70it/s]\n"
     ]
    },
    {
     "data": {
      "text/html": [
       "<video src=\"./outputs/cpg_controller.mp4\" controls  >\n",
       "      Your browser does not support the <code>video</code> element.\n",
       "    </video>"
      ],
      "text/plain": [
       "<IPython.core.display.Video object>"
      ]
     },
     "execution_count": 15,
     "metadata": {},
     "output_type": "execute_result"
    }
   ],
   "source": [
    "from tqdm import trange\n",
    "from IPython import display\n",
    "\n",
    "obs, info = nmf.reset()\n",
    "for i in trange(int(run_time / sim_params.timestep)):\n",
    "    cpg_network.step()\n",
    "    joints_angles = {}\n",
    "    for i, leg in enumerate(legs):\n",
    "        psi = psi_funcs[leg](cpg_network.curr_phases[i])\n",
    "        psi_0 = psi_funcs[leg](0)\n",
    "        adjusted_psi = psi_0 + cpg_network.curr_magnitudes[i] * (psi - psi_0)\n",
    "        for dof, angle in zip(dofs_per_leg, adjusted_psi):\n",
    "            joints_angles[f\"joint_{leg}{dof}\"] = angle\n",
    "    action = {\"joints\": np.array([joints_angles[dof] for dof in nmf.actuated_joints])}\n",
    "    obs, reward, terminated, truncated, info = nmf.step(action)\n",
    "    nmf.render()\n",
    "\n",
    "nmf.save_video(\"./outputs/cpg_controller.mp4\")\n",
    "display.Video(\"./outputs/cpg_controller.mp4\")"
   ]
  },
  {
   "cell_type": "code",
   "execution_count": null,
   "metadata": {},
   "outputs": [],
   "source": []
  }
 ],
 "metadata": {
  "kernelspec": {
   "display_name": "flygym-v1",
   "language": "python",
   "name": "python3"
  },
  "language_info": {
   "codemirror_mode": {
    "name": "ipython",
    "version": 3
   },
   "file_extension": ".py",
   "mimetype": "text/x-python",
   "name": "python",
   "nbconvert_exporter": "python",
   "pygments_lexer": "ipython3",
   "version": "3.11.9"
  }
 },
 "nbformat": 4,
 "nbformat_minor": 2
}
