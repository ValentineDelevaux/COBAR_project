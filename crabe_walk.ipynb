{
 "cells": [
  {
   "cell_type": "code",
   "execution_count": null,
   "metadata": {},
   "outputs": [],
   "source": [
    "from flygym import Camera, Simulation\n",
    "import cv2\n",
    "import numpy as np\n",
    "from tqdm import trange\n",
    "import flygym as flygym\n",
    "from flygym.arena import FlatTerrain\n",
    "from flygym.preprogrammed import all_leg_dofs\n",
    "from flygym.vision import save_video_with_vision_insets\n",
    "from scripts.utils import plot_chasing"
   ]
  },
  {
   "cell_type": "code",
   "execution_count": null,
   "metadata": {},
   "outputs": [],
   "source": [
    "from scripts.chasing_fly import ChasingFly\n",
    "from scripts.hybrid_turning_fly import HybridTurningFly\n",
    "from scripts.colored_terrain import FlatTerrainColored"
   ]
  },
  {
   "cell_type": "code",
   "execution_count": null,
   "metadata": {},
   "outputs": [],
   "source": []
  }
 ],
 "metadata": {
  "language_info": {
   "name": "python"
  }
 },
 "nbformat": 4,
 "nbformat_minor": 2
}
