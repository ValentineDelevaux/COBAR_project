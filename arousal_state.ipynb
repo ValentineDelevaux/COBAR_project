{
 "cells": [
  {
   "cell_type": "markdown",
   "metadata": {},
   "source": [
    "# Notebook to define arousal state"
   ]
  },
  {
   "cell_type": "code",
   "execution_count": 1,
   "metadata": {},
   "outputs": [],
   "source": [
    "from flygym import Camera, Simulation\n",
    "import cv2\n",
    "import numpy as np\n",
    "from tqdm import trange\n",
    "import flygym as flygym\n",
    "from flygym.arena import FlatTerrain\n",
    "from flygym.preprogrammed import all_leg_dofs\n",
    "# from flygym.vision import save_video_with_vision_insets"
   ]
  },
  {
   "cell_type": "code",
   "execution_count": 2,
   "metadata": {},
   "outputs": [],
   "source": [
    "from scripts.utils import *\n",
    "from scripts.hybrid_turning_fly import HybridTurningFly\n",
    "from scripts.chasing_fly import ChasingFly\n",
    "from scripts.colored_terrain import FlatTerrainColored\n",
    "from scripts.changing_state_fly import ChangingStateFly"
   ]
  },
  {
   "cell_type": "markdown",
   "metadata": {},
   "source": [
    "==> State arousal or not that defines if the fly acts as a chasing fly or a simple fly"
   ]
  },
  {
   "cell_type": "markdown",
   "metadata": {},
   "source": [
    "## Define parameters for simulation"
   ]
  },
  {
   "cell_type": "markdown",
   "metadata": {},
   "source": [
    "General parameters"
   ]
  },
  {
   "cell_type": "code",
   "execution_count": 3,
   "metadata": {},
   "outputs": [],
   "source": [
    "timestep = 1e-4\n",
    "run_time = 2\n",
    "t = np.arange(0, run_time, timestep)"
   ]
  },
  {
   "cell_type": "markdown",
   "metadata": {},
   "source": [
    "Flies"
   ]
  },
  {
   "cell_type": "code",
   "execution_count": 4,
   "metadata": {},
   "outputs": [],
   "source": [
    "fly1 = HybridTurningFly(\n",
    "    name=\"1\",\n",
    "    timestep=timestep,\n",
    "    enable_adhesion=True,\n",
    "    spawn_pos=(6, 0, 0.5),\n",
    ")\n",
    "\n",
    "fly0 = ChangingStateFly(\n",
    "    name=\"0\",\n",
    "    desired_distance=0.02,\n",
    "    timestep=timestep,\n",
    "    enable_adhesion=True,\n",
    "    head_stabilization_model=\"thorax\",\n",
    "    neck_kp=1000,\n",
    ")"
   ]
  },
  {
   "cell_type": "markdown",
   "metadata": {},
   "source": [
    "Arena"
   ]
  },
  {
   "cell_type": "code",
   "execution_count": 5,
   "metadata": {},
   "outputs": [],
   "source": [
    "arena = FlatTerrain()"
   ]
  },
  {
   "cell_type": "markdown",
   "metadata": {},
   "source": [
    "Cameras"
   ]
  },
  {
   "cell_type": "code",
   "execution_count": 6,
   "metadata": {},
   "outputs": [],
   "source": [
    "birdeye_cam_zoom = arena.root_element.worldbody.add(\n",
    "    \"camera\",\n",
    "    name=\"birdeye_cam_zoom\",\n",
    "    mode=\"fixed\",\n",
    "    pos=(15, 0, 20),\n",
    "    euler=(0, 0, 0),\n",
    "    fovy=45,\n",
    ")\n",
    "\n",
    "birdeye_cam = arena.root_element.worldbody.add(\n",
    "    \"camera\",\n",
    "    name=\"birdeye_cam\",\n",
    "    mode=\"fixed\",\n",
    "    pos=(15, 0, 35),\n",
    "    euler=(0, 0, 0),\n",
    "    fovy=45,\n",
    ")\n",
    "\n",
    "cam = Camera(\n",
    "    fly=fly0,\n",
    "    camera_id=\"birdeye_cam\",\n",
    "    play_speed=0.5,\n",
    "    window_size=(800, 608),\n",
    ")"
   ]
  },
  {
   "cell_type": "markdown",
   "metadata": {},
   "source": [
    "Simulation"
   ]
  },
  {
   "cell_type": "code",
   "execution_count": 7,
   "metadata": {},
   "outputs": [],
   "source": [
    "sim = Simulation(\n",
    "    flies=[fly0, fly1],\n",
    "    cameras=[cam],\n",
    "    arena=arena,\n",
    "    timestep=timestep,\n",
    ")"
   ]
  },
  {
   "cell_type": "markdown",
   "metadata": {},
   "source": [
    "Target fly actions"
   ]
  },
  {
   "cell_type": "code",
   "execution_count": 8,
   "metadata": {},
   "outputs": [],
   "source": [
    "# Define fly 1 actions --> sinusoidal trajectory\n",
    "speed_variation = np.abs(np.sin(t * np.pi / 2))\n",
    "fly1_actions = np.zeros((len(t), 2))  \n",
    "\n",
    "# Create the fly 1 actions scenario\n",
    "for i, time in enumerate(t):\n",
    "    if time < (1/3) * run_time:\n",
    "        # sinusoidal trajectory for the first 1/3 of the time\n",
    "        fly1_actions[i] = (\n",
    "            np.abs(np.cos(time * np.pi / 2)) * speed_variation[i],\n",
    "            np.abs(np.sin(time * np.pi / 2)) * speed_variation[i],\n",
    "        ) \n",
    "    elif time < (2/3) * run_time:\n",
    "        # stop for the second 1/3 of the time\n",
    "        fly1_actions[i] = (0, 0)\n",
    "    else:\n",
    "        # sinusoidal trajectory for the last 1/3 of the time\n",
    "        fly1_actions[i] = (\n",
    "            np.abs(np.cos(time * np.pi / 2)) * speed_variation[i],\n",
    "            np.abs(np.sin(time * np.pi / 2)) * speed_variation[i],\n",
    "        )\n",
    "\n",
    "# Modifiy fly speed\n",
    "mean_speed = 1.2  \n",
    "std_dev_speed = 0.4  \n",
    "\n",
    "# fly1_actions *= random_speed_variation\n",
    "fly1_actions = np.clip(fly1_actions, 0, 2 * mean_speed)"
   ]
  },
  {
   "cell_type": "markdown",
   "metadata": {},
   "source": [
    "## Explore chasing and visual processing"
   ]
  },
  {
   "cell_type": "markdown",
   "metadata": {},
   "source": [
    "### Run stimulation"
   ]
  },
  {
   "cell_type": "code",
   "execution_count": 9,
   "metadata": {},
   "outputs": [
    {
     "name": "stderr",
     "output_type": "stream",
     "text": [
      "100%|██████████| 20000/20000 [10:27<00:00, 31.85it/s]\n"
     ]
    }
   ],
   "source": [
    "# Reset the simulation and set fly 1 to be black\n",
    "sim.reset(seed=0)\n",
    "for i in fly1.model.find_all(\"geom\"):\n",
    "    sim.physics.named.model.geom_rgba[f\"1/{i.name}\"] = (0, 0, 0, 1)\n",
    "\n",
    "# Prepare simulation\n",
    "second_cam_frames = []\n",
    "fly0_action = np.zeros(2)\n",
    "x = None\n",
    "alpha = 1e-1\n",
    "\n",
    "# Prepare variables to plot \n",
    "proximities = []\n",
    "speeds_fly0 = []\n",
    "speeds_fly1 = []\n",
    "\n",
    "# Run simulation for each timepoint\n",
    "for i in trange(len(t)):\n",
    "    obs, _, _, _, info = sim.step(\n",
    "        {\n",
    "            \"0\": fly0_action,\n",
    "            \"1\": fly1_actions[i],\n",
    "        }\n",
    "    )\n",
    "\n",
    "    # Get observations for fly 0\n",
    "    obs0, info0 = obs[\"0\"], info[\"0\"]\n",
    "    render_res = sim.render()[0]\n",
    "    velocity0 = obs0[\"fly\"][1]\n",
    "    v0 = np.linalg.norm(velocity0)\n",
    "\n",
    "    # Get observations for fly 1\n",
    "    obs1, info1 = obs[\"1\"], info[\"1\"]\n",
    "    velocity1 = obs1[\"fly\"][1]\n",
    "    v1 = np.linalg.norm(velocity1)\n",
    "\n",
    "    # If frame is rendered, save it\n",
    "    if render_res is not None:\n",
    "        fly0.visual_inputs_hist.append(obs0[\"vision\"].copy())\n",
    "        second_cam = sim.physics.bind(birdeye_cam_zoom)\n",
    "\n",
    "        x_new = sim._get_center_of_mass()[0]\n",
    "\n",
    "        if x is None:\n",
    "            x = x_new\n",
    "\n",
    "        x = (1 - alpha) * x + alpha * x_new\n",
    "\n",
    "        second_cam.pos[0] = x\n",
    "        second_img = sim.physics.render(\n",
    "            width=700, height=560, camera_id=\"birdeye_cam_zoom\"\n",
    "        )\n",
    "        second_img = cv2.putText(\n",
    "            np.ascontiguousarray(second_img),\n",
    "            f\"{sim.cameras[0].play_speed}x\",\n",
    "            org=(20, 30),\n",
    "            fontFace=cv2.FONT_HERSHEY_DUPLEX,\n",
    "            fontScale=0.8,\n",
    "            color=(0, 0, 0),\n",
    "            lineType=cv2.LINE_AA,\n",
    "            thickness=1,\n",
    "        )\n",
    "        second_cam_frames.append(second_img)\n",
    "\n",
    "    # Process visual input for fly 0\n",
    "    curr_time = i * sim.timestep\n",
    "    fly0_action, proximity = fly0.get_action(obs0, curr_time)\n",
    "\n",
    "    # Save variables for plotting\n",
    "    proximities.append(proximity)\n",
    "    speeds_fly0.append(v0)\n",
    "    speeds_fly1.append(v1)"
   ]
  },
  {
   "cell_type": "markdown",
   "metadata": {},
   "source": [
    "### Save video"
   ]
  },
  {
   "cell_type": "code",
   "execution_count": 10,
   "metadata": {},
   "outputs": [
    {
     "ename": "IndexError",
     "evalue": "too many indices for array: array is 2-dimensional, but 3 were indexed",
     "output_type": "error",
     "traceback": [
      "\u001b[1;31m---------------------------------------------------------------------------\u001b[0m",
      "\u001b[1;31mIndexError\u001b[0m                                Traceback (most recent call last)",
      "Cell \u001b[1;32mIn[10], line 5\u001b[0m\n\u001b[0;32m      2\u001b[0m cam\u001b[38;5;241m.\u001b[39m_frames \u001b[38;5;241m=\u001b[39m second_cam_frames\n\u001b[0;32m      3\u001b[0m \u001b[38;5;66;03m# sim.fly = fly0\u001b[39;00m\n\u001b[1;32m----> 5\u001b[0m \u001b[43msave_video_with_vision_insets\u001b[49m\u001b[43m(\u001b[49m\n\u001b[0;32m      6\u001b[0m \u001b[43m    \u001b[49m\u001b[43msim\u001b[49m\u001b[43m,\u001b[49m\n\u001b[0;32m      7\u001b[0m \u001b[43m    \u001b[49m\u001b[43mcam\u001b[49m\u001b[43m,\u001b[49m\n\u001b[0;32m      8\u001b[0m \u001b[43m    \u001b[49m\u001b[38;5;124;43m\"\u001b[39;49m\u001b[38;5;124;43moutputs/fly_following_with_retina_images.mp4\u001b[39;49m\u001b[38;5;124;43m\"\u001b[39;49m\u001b[43m,\u001b[49m\n\u001b[0;32m      9\u001b[0m \u001b[43m    \u001b[49m\u001b[43mfly0\u001b[49m\u001b[38;5;241;43m.\u001b[39;49m\u001b[43mvisual_inputs_hist\u001b[49m\u001b[43m,\u001b[49m\n\u001b[0;32m     10\u001b[0m \u001b[43m)\u001b[49m\n",
      "File \u001b[1;32mc:\\Users\\chlea\\Desktop\\COBAR\\COBAR_project\\scripts\\utils.py:52\u001b[0m, in \u001b[0;36msave_video_with_vision_insets\u001b[1;34m(sim, cam, path, visual_input_hist, stabilization_time)\u001b[0m\n\u001b[0;32m     50\u001b[0m     \u001b[38;5;28;01mcontinue\u001b[39;00m\n\u001b[0;32m     51\u001b[0m \u001b[38;5;28;01mfor\u001b[39;00m j, visual_input \u001b[38;5;129;01min\u001b[39;00m \u001b[38;5;28menumerate\u001b[39m(visual_inputs):\n\u001b[1;32m---> 52\u001b[0m     frame \u001b[38;5;241m=\u001b[39m \u001b[43madd_insets\u001b[49m\u001b[43m(\u001b[49m\u001b[43msim\u001b[49m\u001b[38;5;241;43m.\u001b[39;49m\u001b[43mflies\u001b[49m\u001b[43m[\u001b[49m\u001b[43mj\u001b[49m\u001b[43m]\u001b[49m\u001b[38;5;241;43m.\u001b[39;49m\u001b[43mretina\u001b[49m\u001b[43m,\u001b[49m\u001b[43m \u001b[49m\u001b[43mframe\u001b[49m\u001b[43m,\u001b[49m\u001b[43m \u001b[49m\u001b[43mvisual_input\u001b[49m\u001b[43m)\u001b[49m\n\u001b[0;32m     53\u001b[0m writer\u001b[38;5;241m.\u001b[39mappend_data(frame)\n",
      "File \u001b[1;32mc:\\users\\chlea\\desktop\\cobar\\flygym-v1\\flygym\\vision\\visualize.py:39\u001b[0m, in \u001b[0;36madd_insets\u001b[1;34m(retina, viz_frame, visual_input, panel_height)\u001b[0m\n\u001b[0;32m     33\u001b[0m final_frame \u001b[38;5;241m=\u001b[39m np\u001b[38;5;241m.\u001b[39mzeros(\n\u001b[0;32m     34\u001b[0m     (viz_frame\u001b[38;5;241m.\u001b[39mshape[\u001b[38;5;241m0\u001b[39m] \u001b[38;5;241m+\u001b[39m panel_height \u001b[38;5;241m+\u001b[39m \u001b[38;5;241m5\u001b[39m, viz_frame\u001b[38;5;241m.\u001b[39mshape[\u001b[38;5;241m1\u001b[39m], \u001b[38;5;241m3\u001b[39m), dtype\u001b[38;5;241m=\u001b[39mnp\u001b[38;5;241m.\u001b[39muint8\n\u001b[0;32m     35\u001b[0m )\n\u001b[0;32m     36\u001b[0m final_frame[: viz_frame\u001b[38;5;241m.\u001b[39mshape[\u001b[38;5;241m0\u001b[39m], :, :] \u001b[38;5;241m=\u001b[39m viz_frame\n\u001b[0;32m     38\u001b[0m img_l \u001b[38;5;241m=\u001b[39m (\n\u001b[1;32m---> 39\u001b[0m     retina\u001b[38;5;241m.\u001b[39mhex_pxls_to_human_readable(\u001b[43mvisual_input\u001b[49m\u001b[43m[\u001b[49m\u001b[38;5;241;43m0\u001b[39;49m\u001b[43m,\u001b[49m\u001b[43m \u001b[49m\u001b[43m:\u001b[49m\u001b[43m,\u001b[49m\u001b[43m \u001b[49m\u001b[43m:\u001b[49m\u001b[43m]\u001b[49m, color_8bit\u001b[38;5;241m=\u001b[39m\u001b[38;5;28;01mTrue\u001b[39;00m)\n\u001b[0;32m     40\u001b[0m     \u001b[38;5;241m.\u001b[39mastype(np\u001b[38;5;241m.\u001b[39muint8)\n\u001b[0;32m     41\u001b[0m     \u001b[38;5;241m.\u001b[39mmax(axis\u001b[38;5;241m=\u001b[39m\u001b[38;5;241m-\u001b[39m\u001b[38;5;241m1\u001b[39m)\n\u001b[0;32m     42\u001b[0m )\n\u001b[0;32m     43\u001b[0m img_r \u001b[38;5;241m=\u001b[39m (\n\u001b[0;32m     44\u001b[0m     retina\u001b[38;5;241m.\u001b[39mhex_pxls_to_human_readable(visual_input[\u001b[38;5;241m1\u001b[39m, :, :], color_8bit\u001b[38;5;241m=\u001b[39m\u001b[38;5;28;01mTrue\u001b[39;00m)\n\u001b[0;32m     45\u001b[0m     \u001b[38;5;241m.\u001b[39mastype(np\u001b[38;5;241m.\u001b[39muint8)\n\u001b[0;32m     46\u001b[0m     \u001b[38;5;241m.\u001b[39mmax(axis\u001b[38;5;241m=\u001b[39m\u001b[38;5;241m-\u001b[39m\u001b[38;5;241m1\u001b[39m)\n\u001b[0;32m     47\u001b[0m )\n\u001b[0;32m     48\u001b[0m vision_inset_size \u001b[38;5;241m=\u001b[39m np\u001b[38;5;241m.\u001b[39marray(\n\u001b[0;32m     49\u001b[0m     [panel_height, panel_height \u001b[38;5;241m*\u001b[39m (img_l\u001b[38;5;241m.\u001b[39mshape[\u001b[38;5;241m1\u001b[39m] \u001b[38;5;241m/\u001b[39m img_l\u001b[38;5;241m.\u001b[39mshape[\u001b[38;5;241m0\u001b[39m])]\n\u001b[0;32m     50\u001b[0m )\u001b[38;5;241m.\u001b[39mastype(np\u001b[38;5;241m.\u001b[39muint16)\n",
      "\u001b[1;31mIndexError\u001b[0m: too many indices for array: array is 2-dimensional, but 3 were indexed"
     ]
    }
   ],
   "source": [
    "birdeye_cam_frames = cam._frames\n",
    "cam._frames = second_cam_frames\n",
    "# sim.fly = fly0\n",
    "\n",
    "save_video_with_vision_insets(\n",
    "    sim,\n",
    "    cam,\n",
    "    \"outputs/fly_following_with_retina_images.mp4\",\n",
    "    fly0.visual_inputs_hist,\n",
    ")"
   ]
  },
  {
   "cell_type": "code",
   "execution_count": null,
   "metadata": {},
   "outputs": [],
   "source": []
  }
 ],
 "metadata": {
  "kernelspec": {
   "display_name": "flygym-v1",
   "language": "python",
   "name": "python3"
  },
  "language_info": {
   "codemirror_mode": {
    "name": "ipython",
    "version": 3
   },
   "file_extension": ".py",
   "mimetype": "text/x-python",
   "name": "python",
   "nbconvert_exporter": "python",
   "pygments_lexer": "ipython3",
   "version": "3.11.9"
  }
 },
 "nbformat": 4,
 "nbformat_minor": 2
}
